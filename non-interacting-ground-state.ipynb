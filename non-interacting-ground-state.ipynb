{
 "cells": [
  {
   "cell_type": "markdown",
   "id": "6cf00015",
   "metadata": {},
   "source": [
    "# Ground State\n",
    "\n",
    "The hubbard hamiltonian for the non-interacting fermionic system is as follows:\n",
    "\n",
    "#### $\\hat{H} = -t\\sum\\limits_{\\langle{r,r'}\\rangle\\sigma}\\hat{c}^{\\dagger}_{r,\\sigma}\\hat{c}_{r',\\sigma} + \\frac{U}{2}\\sum\\limits_{r}\\sum\\limits_{\\sigma\\neq\\sigma'}\\hat{n}_{\\sigma}(r)\\hat{n}_{\\sigma'}(r) \\tag{1}$\n",
    "\n",
    "where $r$ denotes a lattice coordinate and $\\sigma$ denotes the \"flavor\" of a particle. In ferminionic systems, one such \"flavor\" is a particle's spin (spin-up $\\uparrow$ and spin-down $\\downarrow$). We seek to implement a generalization of the Hubbard hamiltonian where a user can arbitrarily construct an $d$-dimensional lattice with $N$ particles and $F$ flavors."
   ]
  },
  {
   "cell_type": "code",
   "execution_count": 5,
   "id": "9dfc114b",
   "metadata": {},
   "outputs": [],
   "source": [
    "import numpy as np\n",
    "import matplotlib.pyplot as plt"
   ]
  },
  {
   "cell_type": "markdown",
   "id": "74ee7149",
   "metadata": {},
   "source": [
    "We intend to construct the lattice in the single-particle Hilbert space:\n",
    "\n",
    "$\\langle{r,\\sigma}|\\hat{H}|{r',\\sigma'}\\rangle \\tag{2}$\n",
    "\n",
    "We begin by defining the parameters of the lattice system. This allows the user to choose and tune the dimensionality, specify each dimension's length, the total number of particles in the system, and the total number of particles existing in a state of a certain flavor."
   ]
  },
  {
   "cell_type": "code",
   "execution_count": 4,
   "id": "06dfdb67",
   "metadata": {},
   "outputs": [
    {
     "name": "stdout",
     "output_type": "stream",
     "text": [
      "How many sites in direction 0?1\n",
      "How many sites in direction 1?2\n"
     ]
    }
   ],
   "source": [
    "dimension = 2\n",
    "d_array = np.empty(dimension,dtype=np.int64)\n",
    "for d in range(dimension):\n",
    "    d_array = int(input(f\"How many sites in direction {d}?\"))"
   ]
  },
  {
   "cell_type": "code",
   "execution_count": null,
   "id": "dc85fd4e",
   "metadata": {},
   "outputs": [],
   "source": []
  }
 ],
 "metadata": {
  "kernelspec": {
   "display_name": "Python 3 (ipykernel)",
   "language": "python",
   "name": "python3"
  },
  "language_info": {
   "codemirror_mode": {
    "name": "ipython",
    "version": 3
   },
   "file_extension": ".py",
   "mimetype": "text/x-python",
   "name": "python",
   "nbconvert_exporter": "python",
   "pygments_lexer": "ipython3",
   "version": "3.10.14"
  }
 },
 "nbformat": 4,
 "nbformat_minor": 5
}
