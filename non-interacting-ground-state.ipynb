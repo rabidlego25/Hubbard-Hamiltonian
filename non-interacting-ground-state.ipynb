{
 "cells": [
  {
   "cell_type": "markdown",
   "id": "fc94ba0b",
   "metadata": {},
   "source": [
    "# Non-Interacting Ground State\n",
    "\n",
    "The hubbard hamiltonian for the non-interacting fermionic system is as follows:\n",
    "\n",
    "#### $\\hat{H} = -t\\sum\\limits_{\\langle{r,r'}\\rangle\\sigma} + \\frac{U}{2}\\sum\\limits_{r}\\sum\\limits_{\\sigma\\neq\\sigma'}\\hat{n}_{\\sigma}(r)\\hat{n}_{\\sigma'}(r)$\n",
    "\n",
    "where $r$ denotes the coordinate of the lattice and $\\sigma$ denotes the \"flavor\" of a particle. In ferminionic systems, one such \"flavor\" is a particle's spin (spin-up $\\uparrow$ and spin-down $\\downarrow$).\n",
    "\n",
    "We seek to implement a generalization of the Hubbard hamiltonian where a user can arbitrarily construct an $d$-dimensional lattice with $N$ particles and $F$ flavors of those particles."
   ]
  },
  {
   "cell_type": "code",
   "execution_count": 2,
   "id": "932476d7",
   "metadata": {},
   "outputs": [],
   "source": [
    "import numpy as np\n",
    "import matplotlib.pyplot as plt"
   ]
  },
  {
   "cell_type": "code",
   "execution_count": null,
   "id": "f33ab77b",
   "metadata": {},
   "outputs": [],
   "source": []
  }
 ],
 "metadata": {
  "kernelspec": {
   "display_name": "Python 3 (ipykernel)",
   "language": "python",
   "name": "python3"
  },
  "language_info": {
   "codemirror_mode": {
    "name": "ipython",
    "version": 3
   },
   "file_extension": ".py",
   "mimetype": "text/x-python",
   "name": "python",
   "nbconvert_exporter": "python",
   "pygments_lexer": "ipython3",
   "version": "3.10.14"
  }
 },
 "nbformat": 4,
 "nbformat_minor": 5
}
