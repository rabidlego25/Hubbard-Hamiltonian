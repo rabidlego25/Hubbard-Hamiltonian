{
 "cells": [
  {
   "cell_type": "markdown",
   "id": "24f530c9",
   "metadata": {},
   "source": [
    "# Ground State\n",
    "\n",
    "The hubbard hamiltonian for the non-interacting fermionic system is as follows:\n",
    "\n",
    "#### $\\hat{H} = -t\\sum\\limits_{\\langle{r,r'}\\rangle\\sigma}\\hat{c}^{\\dagger}_{r,\\sigma}\\hat{c}_{r',\\sigma} + \\frac{U}{2}\\sum\\limits_{r}\\sum\\limits_{\\sigma\\neq\\sigma'}\\hat{n}_{\\sigma}(r)\\hat{n}_{\\sigma'}(r)$\n",
    "\n",
    "where $r$ denotes a lattice coordinate and $\\sigma$ denotes the \"flavor\" of a particle. In ferminionic systems, one such \"flavor\" is a particle's spin (spin-up $\\uparrow$ and spin-down $\\downarrow$). The operators $\\hat{c}^{\\dagger}_{r,\\sigma}$ and $\\hat{c}_{r',\\sigma}$ are the creation and destruction operators, while  $\\hat{n}_{\\sigma}(r)$ and $\\hat{n}_{\\sigma'}(r)$ are the density operators. We seek to implement a generalization of the Hubbard hamiltonian where a user can arbitrarily construct an $d$-dimensional lattice with $N$ particles and $F$ flavors."
   ]
  },
  {
   "cell_type": "code",
   "execution_count": 35,
   "id": "02f1a94d",
   "metadata": {},
   "outputs": [],
   "source": [
    "import numpy as np\n",
    "import matplotlib.pyplot as plt"
   ]
  },
  {
   "cell_type": "markdown",
   "id": "f87ade74",
   "metadata": {},
   "source": [
    "We intend to construct the lattice in the single-particle Hilbert space:\n",
    "\n",
    "$\\langle{r,\\sigma}|\\hat{H}|{r',\\sigma'}\\rangle$\n",
    "\n",
    "where each lattice site $r$ corresponds to a basis state in the Hamiltonian.\n",
    "\n",
    "We begin by defining the parameters of the lattice system. This allows us to choose and tune the dimensionality, the total number of particles in the system, and the total number of particles existing in a state of a certain flavor."
   ]
  },
  {
   "cell_type": "code",
   "execution_count": 36,
   "id": "8a32bd24",
   "metadata": {},
   "outputs": [
    {
     "name": "stdout",
     "output_type": "stream",
     "text": [
      "2-dimensional lattice generated with 9 sites\n",
      "5 particles generated\n",
      "The dimensionality of the single particle Hilbert space is 27\n"
     ]
    }
   ],
   "source": [
    "D = 2 # dimensionality\n",
    "d_array = np.empty(dimension,dtype=np.int64)\n",
    "# for d in range(dimension):\n",
    "    # d_array = int(input(f\"How many sites in direction {d}?\"))\n",
    "d_array[0] = 3\n",
    "d_array[1] = 3\n",
    "L = np.prod(d_array)\n",
    "print(f\"{D}-dimensional lattice generated with {L} sites\")\n",
    "\n",
    "F = 3 # total flavors\n",
    "N = np.empty(F,dtype=np.int64)\n",
    "N[0] = 2\n",
    "N[1] = 1\n",
    "N[2] = 2\n",
    "print(f\"{np.sum(N)} particles generated\")\n",
    "\n",
    "ibc = 0 # 0 = periodic boundary conditions & 1 = open boundary conditions\n",
    "\n",
    "M = F * L\n",
    "print(f\"The dimensionality of the single particle Hilbert space is {M}\")"
   ]
  },
  {
   "cell_type": "markdown",
   "id": "61a8d300",
   "metadata": {},
   "source": [
    "We will construct a Hamiltonian, which will have $L^2$ components. We will call this `Honey`."
   ]
  },
  {
   "cell_type": "code",
   "execution_count": 37,
   "id": "903f39b2",
   "metadata": {},
   "outputs": [],
   "source": [
    "Honey = np.zeros(L*L,dtype=np.complex128)"
   ]
  },
  {
   "cell_type": "markdown",
   "id": "9b1b9986",
   "metadata": {},
   "source": [
    "In the non-interacting system, the potential energy component of $\\hat{H}$ will be neglected. Because our hamiltonian exists in a hilbert space of basis $|r\\rangle$, the kinetic energy can be represented through nearest neighbor considerations. We need to implement a mechanism for modifying $\\hat{H}$ to reflect the possible state transitions through \"hopping\".\n",
    "\n",
    "We start by definining two helper functions: `coor` takes in an index and returns a coordinate, and `coor_to_index` takes in a coordinate and returns an index."
   ]
  },
  {
   "cell_type": "code",
   "execution_count": 41,
   "id": "6cf0746a",
   "metadata": {},
   "outputs": [],
   "source": [
    "def coor(index,d,n,Ns):\n",
    "    den=Ns; coor=np.empty(d, dtype=int)\n",
    "    for i in range(d-1, -1, -1):\n",
    "        den/=n[i]\n",
    "        coor[i]=index/den\n",
    "        index%=den\n",
    "    return coor\n",
    "\n",
    "def coor_to_index(coor, d, d_array):\n",
    "    index = 0\n",
    "    m = 1\n",
    "    #print(d-1)\n",
    "    for dim in range(d):\n",
    "        index = index + m*coor[dim]\n",
    "        m = m*d_array[dim] \n",
    "    return index "
   ]
  },
  {
   "cell_type": "markdown",
   "id": "58ea6412",
   "metadata": {},
   "source": [
    "The system needs to consider whether periodic or open boundary conditions are enforced. Periodic boundaries means that the lattice \"wraps\" itself to a starting point, connecting the ends. Open boundaries means that the boundaries are not connected."
   ]
  },
  {
   "cell_type": "code",
   "execution_count": 40,
   "id": "f0c458d5",
   "metadata": {},
   "outputs": [
    {
     "data": {
      "image/png": "[encoded data removed]",
      "text/plain": [
       "<Figure size 500x500 with 1 Axes>"
      ]
     },
     "metadata": {},
     "output_type": "display_data"
    },
    {
     "data": {
      "image/png": "[encoded data removed]",
      "text/plain": [
       "<Figure size 500x500 with 1 Axes>"
      ]
     },
     "metadata": {},
     "output_type": "display_data"
    }
   ],
   "source": [
    "import matplotlib.patches as patches\n",
    "\n",
    "def draw_lattice(rows, cols, boundary_type='Open'):\n",
    "    fig, ax = plt.subplots(figsize=(5, 5))\n",
    "    plt.xlim(-1, cols)\n",
    "    plt.ylim(-1, rows)\n",
    "    ax.set_aspect('equal', adjustable='box')\n",
    "    ax.set_xticks(np.arange(-1, cols, 1))\n",
    "    ax.set_yticks(np.arange(-1, rows, 1))\n",
    "    plt.grid(True)\n",
    "    \n",
    "    # Drawing the cells\n",
    "    for x in range(cols):\n",
    "        for y in range(rows):\n",
    "            rect = patches.Rectangle((x, y), 1, 1, linewidth=1, edgecolor='r', facecolor='none')\n",
    "            ax.add_patch(rect)\n",
    "\n",
    "# Draw lattice with Open Boundary Conditions\n",
    "draw_lattice(5, 5, 'Open')\n",
    "\n",
    "# Draw lattice with Periodic Boundary Conditions\n",
    "draw_lattice(5, 5, 'Periodic')\n"
   ]
  },
  {
   "cell_type": "code",
   "execution_count": null,
   "id": "e5286a75",
   "metadata": {},
   "outputs": [],
   "source": []
  }
 ],
 "metadata": {
  "kernelspec": {
   "display_name": "Python 3 (ipykernel)",
   "language": "python",
   "name": "python3"
  },
  "language_info": {
   "codemirror_mode": {
    "name": "ipython",
    "version": 3
   },
   "file_extension": ".py",
   "mimetype": "text/x-python",
   "name": "python",
   "nbconvert_exporter": "python",
   "pygments_lexer": "ipython3",
   "version": "3.10.14"
  }
 },
 "nbformat": 4,
 "nbformat_minor": 5
}
