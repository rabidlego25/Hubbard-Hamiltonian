{
 "cells": [
  {
   "cell_type": "markdown",
   "id": "c90b932f",
   "metadata": {},
   "source": [
    "# Ground State\n",
    "\n",
    "The hubbard hamiltonian for the non-interacting fermionic system is as follows:\n",
    "\n",
    "#### $\\hat{H} = -t\\sum\\limits_{\\langle{r,r'}\\rangle\\sigma}\\hat{c}^{\\dagger}_{r,\\sigma}\\hat{c}_{r',\\sigma} + \\frac{U}{2}\\sum\\limits_{r}\\sum\\limits_{\\sigma\\neq\\sigma'}\\hat{n}_{\\sigma}(r)\\hat{n}_{\\sigma'}(r)$\n",
    "\n",
    "where $r$ denotes a lattice coordinate and $\\sigma$ denotes the \"flavor\" of a particle. In ferminionic systems, one such \"flavor\" is a particle's spin (spin-up $\\uparrow$ and spin-down $\\downarrow$). The operators $\\hat{c}^{\\dagger}_{r,\\sigma}$ and $\\hat{c}_{r',\\sigma}$ are the creation and destruction operators, while  $\\hat{n}_{\\sigma}(r)$ and $\\hat{n}_{\\sigma'}(r)$ are the density operators. We seek to implement a generalization of the Hubbard hamiltonian where a user can arbitrarily construct an $d$-dimensional lattice with $N$ particles and $F$ flavors."
   ]
  },
  {
   "cell_type": "code",
   "execution_count": 45,
   "id": "8fae7488",
   "metadata": {},
   "outputs": [],
   "source": [
    "import numpy as np\n",
    "import matplotlib.pyplot as plt\n",
    "from copy import deepcopy"
   ]
  },
  {
   "cell_type": "markdown",
   "id": "bd72f8aa",
   "metadata": {},
   "source": [
    "We intend to construct the lattice in the single-particle Hilbert space:\n",
    "\n",
    "$\\langle{r,\\sigma}|\\hat{H}|{r',\\sigma'}\\rangle$\n",
    "\n",
    "where each lattice site $r$ corresponds to a basis state in the Hamiltonian.\n",
    "\n",
    "We begin by defining the parameters of the lattice system. This allows us to choose and tune the dimensionality, the total number of particles in the system, and the total number of particles existing in a state of a certain flavor."
   ]
  },
  {
   "cell_type": "code",
   "execution_count": 46,
   "id": "f60c7c9e",
   "metadata": {},
   "outputs": [
    {
     "name": "stdout",
     "output_type": "stream",
     "text": [
      "2-dimensional lattice generated with 9 sites\n",
      "5 particles generated\n",
      "The dimensionality of the single particle Hilbert space is 27\n"
     ]
    }
   ],
   "source": [
    "D = 2 # dimensionality\n",
    "d_array = np.empty(dimension,dtype=np.int64)\n",
    "# for d in range(dimension):\n",
    "    # d_array = int(input(f\"How many sites in direction {d}?\"))\n",
    "d_array[0] = 3\n",
    "d_array[1] = 3\n",
    "L = np.prod(d_array)\n",
    "print(f\"{D}-dimensional lattice generated with {L} sites\")\n",
    "\n",
    "F = 3 # total flavors\n",
    "N = np.empty(F,dtype=np.int64)\n",
    "N[0] = 2\n",
    "N[1] = 1\n",
    "N[2] = 2\n",
    "print(f\"{np.sum(N)} particles generated\")\n",
    "\n",
    "ibc = 0 # 0 = periodic boundary conditions & 1 = open boundary conditions\n",
    "\n",
    "M = F * L\n",
    "print(f\"The dimensionality of the single particle Hilbert space is {M}\")"
   ]
  },
  {
   "cell_type": "markdown",
   "id": "02b0d9e9",
   "metadata": {},
   "source": [
    "We will construct a Hamiltonian, which will have $L^2$ components. We will call this `Honey`."
   ]
  },
  {
   "cell_type": "code",
   "execution_count": 47,
   "id": "496f1a29",
   "metadata": {},
   "outputs": [],
   "source": [
    "Honey = np.zeros(L*L,dtype=np.complex128)"
   ]
  },
  {
   "cell_type": "markdown",
   "id": "27d6f20e",
   "metadata": {},
   "source": [
    "In the non-interacting system, the potential energy component of $\\hat{H}$ will be neglected. Because our hamiltonian exists in a hilbert space of basis $|r\\rangle$, the kinetic energy can be represented through nearest neighbor considerations. We need to implement a mechanism for modifying $\\hat{H}$ to reflect the possible state transitions through \"hopping\".\n",
    "\n",
    "We start by definining two helper functions: `coor` takes in an index and returns a coordinate, and `coor_to_index` takes in a coordinate and returns an index."
   ]
  },
  {
   "cell_type": "code",
   "execution_count": 48,
   "id": "64ba53b8",
   "metadata": {},
   "outputs": [],
   "source": [
    "def coor(index,d,n,Ns):\n",
    "    den=Ns; coor=np.empty(d, dtype=int)\n",
    "    for i in range(d-1, -1, -1):\n",
    "        den/=n[i]\n",
    "        coor[i]=index/den\n",
    "        index%=den\n",
    "    return coor\n",
    "\n",
    "def coor_to_index(coor, d, d_array):\n",
    "    index = 0\n",
    "    m = 1\n",
    "    #print(d-1)\n",
    "    for dim in range(d):\n",
    "        index = index + m*coor[dim]\n",
    "        m = m*d_array[dim] \n",
    "    return index "
   ]
  },
  {
   "cell_type": "markdown",
   "id": "56c5d887",
   "metadata": {},
   "source": [
    "The system needs to consider whether periodic or open boundary conditions are enforced. Periodic boundaries means that the lattice \"wraps\" itself to a starting point, connecting the ends. Open boundaries means that the boundaries are not connected. These conditions influence the construction of the Hamiltonian as hopping rules differ."
   ]
  },
  {
   "cell_type": "code",
   "execution_count": 55,
   "id": "69379b89",
   "metadata": {},
   "outputs": [],
   "source": [
    "site_i = []; site_j = []; hopping = []"
   ]
  },
  {
   "cell_type": "code",
   "execution_count": 56,
   "id": "f10e7039",
   "metadata": {},
   "outputs": [],
   "source": [
    "if (ibc ==0): # periodic\n",
    "    for i in range(L):\n",
    "        coor_i = coor(i,dimension,d_array,L)\n",
    "        for dim in range(dimension):\n",
    "            for nn in (-1,1):\n",
    "                coor_j = deepcopy(coor_i)\n",
    "                coor_j[dim] = coor_i[dim] + nn\n",
    "                if(coor_j[dim] < 0):\n",
    "                    coor_j[dim] = coor_j[dim] + d_array[dim]\n",
    "                if(coor_j[dim] > d_array[dim]-1):\n",
    "                    coor_j[dim] = coor_j[dim] - d_array[dim]\n",
    "                j = coor_to_index(coor_j, dimension, d_array)\n",
    "                site_i.append(i)\n",
    "                site_j.append(j)\n",
    "                hopping.append(-1)\n",
    "elif(ibc == 1): #OBC\n",
    "    for i in range(L): #loop over the lattice sites\n",
    "        coor_i = coor(i, dimension, d_array, L)\n",
    "        for dim in range(dimension):\n",
    "            if coor_i[dim] == 0:\n",
    "                coor_j = deepcopy(coor_i)\n",
    "                coor_j[dim] = coor_i[dim] + 1\n",
    "                j = coor_to_index(coor_j, dimension, d_array)\n",
    "                #print(\"*** nearest neighbor found in \", coor_j)\n",
    "                #print(\"*** nn label {}:\".format(j))\n",
    "                site_i.append(i)\n",
    "                site_j.append(j)\n",
    "                hopping.append(-1)\n",
    "            elif coor_i[dim] == d_array[dim] - 1:\n",
    "                coor_j = deepcopy(coor_i)\n",
    "                coor_j[dim] = coor_i[dim] - 1\n",
    "                j = coor_to_index(coor_j, dimension, d_array)\n",
    "                #print(\"*** nearest neighbor found in \", coor_j)\n",
    "                #print(\"*** nn label {}:\".format(j))\n",
    "                site_i.append(i)\n",
    "                site_j.append(j)\n",
    "                hopping.append(-1)\n",
    "            else:\n",
    "                for nn in (-1, 1):\n",
    "                    coor_j = deepcopy(coor_i)\n",
    "                    coor_j[dim] = coor_i[dim] + nn\n",
    "                    j = coor_to_index(coor_j, dimension, d_array)\n",
    "                    #print(\"*** nearest neighbor found in \", coor_j)\n",
    "                    #print(\"*** nn label {}:\".format(j))\n",
    "                    site_i.append(i)\n",
    "                    site_j.append(j)\n",
    "                    hopping.append(-1)"
   ]
  },
  {
   "cell_type": "code",
   "execution_count": null,
   "id": "22152ab9",
   "metadata": {},
   "outputs": [],
   "source": []
  },
  {
   "cell_type": "code",
   "execution_count": null,
   "id": "92781c0f",
   "metadata": {},
   "outputs": [],
   "source": []
  }
 ],
 "metadata": {
  "kernelspec": {
   "display_name": "Python 3 (ipykernel)",
   "language": "python",
   "name": "python3"
  },
  "language_info": {
   "codemirror_mode": {
    "name": "ipython",
    "version": 3
   },
   "file_extension": ".py",
   "mimetype": "text/x-python",
   "name": "python",
   "nbconvert_exporter": "python",
   "pygments_lexer": "ipython3",
   "version": "3.10.14"
  }
 },
 "nbformat": 4,
 "nbformat_minor": 5
}
